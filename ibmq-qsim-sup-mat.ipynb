{
 "cells": [
  {
   "cell_type": "markdown",
   "id": "852ab4ac-e501-4694-bf67-90cd4122140e",
   "metadata": {},
   "source": [
    "# Open Science Prize: Supplementary Material\n",
    "\n",
    "This notebook is meant to provide a little more information about the Open Science Prize, but mostly, this notebook is a launching point from which the motivated learner can find open access sources with even more detailed information."
   ]
  },
  {
   "cell_type": "markdown",
   "id": "c764af20-017f-4209-9483-4f89f10cb562",
   "metadata": {},
   "source": [
    "## 1 The Heisenberg Spin Model\n",
    "In the open prize notebook, the Hamiltonian you are simulating is defined as the [Heisenberg XXX model](https://en.wikipedia.org/wiki/Quantum_Heisenberg_model#XXX_model) for 3 spins in a line:\n",
    "$$\n",
    "H_{\\text{Heis3}} = \\sigma_x^{(0)}\\sigma_x^{(1)} + \\sigma_x^{(1)}\\sigma_x^{(2)} + \\sigma_y^{(0)}\\sigma_y^{(1)} + \\sigma_y^{(1)}\\sigma_y^{(2)} + \\sigma_z^{(0)}\\sigma_z^{(1)} + \\sigma_z^{(1)}\\sigma_z^{(2)}.\n",
    "$$\n",
    "\n",
    "### 1-1 Why call it XXX?\n",
    "The XXX model is one of a family of spin models known as [Heisenberg spin models](https://en.wikipedia.org/wiki/Quantum_Heisenberg_model). In some sense, the most general form of Heisenberg model is often refered to as the XYZ model. The name 'XYZ' is used because the three pair-wise operators $\\sigma_x\\sigma_x$, $\\sigma_y\\sigma_y$, and $\\sigma_z \\sigma_z$ in the Hamitlonian have different coefficients $J_x$, $J_y$, and $J_z$ respectively. In the case where $J_x = J_y = J_z$, the model is labeled the 'XXX' model.\n",
    "\n",
    "### 1-2 Numerically computing the matrix representation\n",
    "To compute the matrix representation of $H_{\\text{Heis3}}$, we are actually missing some pieces namely the identity operator $I$ and the [tensor product](https://en.wikipedia.org/wiki/Tensor_product#Tensor_product_of_linear_maps) $\\otimes$ symbol. They are both often left out in when writing a Hamiltonian, but they are implied to be there. Writing out the full $H_{\\text{Heis3}}$ including the identity operators and tensor product symbols\n",
    "$$\n",
    "H_{\\text{Heis3}} = \\sigma_x^{(0)}\\otimes\\sigma_x^{(1)}\\otimes I^{(2)} + I^{(0)} \\otimes\\sigma_x^{(1)}\\otimes\\sigma_x^{(2)} + \\sigma_y^{(0)}\\otimes\\sigma_y^{(1)}\\otimes I^{(2)} + I^{(0)} \\otimes \\sigma_y^{(1)}\\otimes\\sigma_y^{(2)} + I^{(0)} \\otimes\\sigma_z^{(0)}\\otimes\\sigma_z^{(1)} + I^{(0)}\\otimes\\sigma_z^{(1)}\\otimes\\sigma_z^{(2)}.\n",
    "$$\n",
    "You can see why physicists don't write that all out all the time.\n",
    "\n",
    "#### 1-2.1 Tensor product vs Kronecker product\n",
    "\n",
    "A point of clarity about jargon. To numerically compute the [tensor product](https://en.wikipedia.org/wiki/Tensor_product#Tensor_product_of_linear_maps) of $\\sigma_x\\otimes\\sigma_x$, as an example, we often have already chosen to be working with the matrix representation of the operators at hand ($\\sigma_x = \\begin{bmatrix} 0 & 1 \\\\ 1 & 0 \\end{bmatrix}$ in this example). Because a computer works in the matrix representation, what a computer does is actually called a [Kronecker product](https://en.wikipedia.org/wiki/Kronecker_product#Examples). When doing numerically computations, Kronecker product is the name you would look up for the given software package you're using such as [Mathematica](https://reference.wolfram.com/language/ref/KroneckerProduct.html), [numpy](https://numpy.org/doc/stable/reference/generated/numpy.kron.html), or [Qiskit](https://qiskit.org/documentation/tutorials/operators/01_operator_flow.html#Pauli-operators,-sums,-compositions,-and-tensor-products). \n",
    "\n",
    "Below is an example in Qiskit and numpy."
   ]
  },
  {
   "cell_type": "code",
   "execution_count": 1,
   "id": "6e8a2e34-0eaf-4e95-b9fa-753cd35f611a",
   "metadata": {},
   "outputs": [],
   "source": [
    "import numpy as np\n",
    "import matplotlib.pyplot as plt\n",
    "plt.rcParams.update({'font.size': 16})  # enlarge matplotlib fonts\n",
    "\n",
    "# Import Qubit states Zero (|0>) and One (|1>), and Pauli operators (X, Y, Z)\n",
    "from qiskit.opflow import Zero, One, I, X, Y, Z\n",
    "\n",
    "# Suppress warnings\n",
    "import warnings\n",
    "warnings.filterwarnings('ignore')"
   ]
  },
  {
   "cell_type": "code",
   "execution_count": 2,
   "id": "6a7b4f61-08ea-40ad-b595-581632eb53a7",
   "metadata": {},
   "outputs": [
    {
     "name": "stdout",
     "output_type": "stream",
     "text": [
      "Qiskit Kronecker product:\n",
      " [[0.+0.j 1.+0.j 0.+0.j 0.+0.j]\n",
      " [1.+0.j 0.+0.j 0.+0.j 0.+0.j]\n",
      " [0.+0.j 0.+0.j 0.+0.j 1.+0.j]\n",
      " [0.+0.j 0.+0.j 1.+0.j 0.+0.j]]\n",
      "----------------\n",
      "Numpy Kronecker product:\n",
      " [[0.+0.j 1.+0.j 0.+0.j 0.+0.j]\n",
      " [1.+0.j 0.+0.j 0.+0.j 0.+0.j]\n",
      " [0.+0.j 0.+0.j 0.+0.j 1.+0.j]\n",
      " [0.+0.j 0.+0.j 1.+0.j 0.+0.j]]\n"
     ]
    }
   ],
   "source": [
    "# Compute a kronecker product in qiskit\n",
    "# Qiskit already knows what I and X are (the identity and Pauli-X operators), so to compute the kronecker product it's very simple: ^\n",
    "IX_qiskit = (I^X)\n",
    "print('Qiskit Kronecker product:\\n', IX_qiskit.to_matrix())\n",
    "\n",
    "print(\"----------------\")\n",
    "\n",
    "# Compute a kronecker product in numpy\n",
    "X_numpy = np.array([[0,1],[1,0]], dtype=complex)\n",
    "I_numpy = np.eye(2, dtype=complex)\n",
    "\n",
    "IX_numpy = np.kron(I_numpy, X_numpy)\n",
    "print('Numpy Kronecker product:\\n', IX_numpy)"
   ]
  },
  {
   "cell_type": "markdown",
   "id": "2482ca28-5d74-4313-8e1f-cdbb18c7c121",
   "metadata": {},
   "source": [
    "## 2 Using OpFlow\n",
    "Qiskit offers [functionality for mathematically working with quantum states and operators](https://qiskit.org/documentation/apidoc/opflow.html) called ```opflow``` with tutorials found [here](https://qiskit.org/documentation/tutorials/operators/index.html). Opflow is especially convenient when dealing with large numbers of qubits as tensor products can become unweildy when using numpy both in size and syntax. For example, to define $H_{\\text{Heis3}}$, we could use ```numpy```'s ```numpy.kron(...)``` function to compute the tensor product as shown below."
   ]
  },
  {
   "cell_type": "code",
   "execution_count": 3,
   "id": "b664ad3b-cc82-41fd-b72b-b59140cafa33",
   "metadata": {},
   "outputs": [],
   "source": [
    "# Returns matrix representation of the XXX Heisenberg model for 3 spin-1/2 particles in a line (uses np.kron())\n",
    "def H_heis3_np_kron():\n",
    "    #iden is the identity matrix; sig_x, sig_y, and sig_z are Pauli matrices\n",
    "    iden = np.eye(2,2)\n",
    "    sig_x = np.array([[0,1],[1,0]])\n",
    "    sig_y = np.array([[0,-1j],[1j,0]])\n",
    "    sig_z = np.array([[0,1],[0,-1]])\n",
    "    \n",
    "    # Interactions (np.kron(A,B) is the tensor product of A and B)\n",
    "    XXs = np.kron(iden, np.kron(sig_x, sig_x)) + np.kron(sig_x, np.kron(sig_x, iden))\n",
    "    YYs = np.kron(iden, np.kron(sig_y, sig_y)) + np.kron(sig_y, np.kron(sig_y, iden))\n",
    "    ZZs = np.kron(iden, np.kron(sig_z, sig_z)) + np.kron(sig_z, np.kron(sig_z, iden))\n",
    "    \n",
    "    # Sum interactions\n",
    "    H = XXs + YYs + ZZs\n",
    "    \n",
    "    # Return Hamiltonian\n",
    "    return H\n",
    "\n",
    "# Returns matrix representation of the XXX Heisenberg model for 3 spin-1/2 particles in a line (uses opflow)\n",
    "def H_heis3_opflow():\n",
    "    \n",
    "    # Interactions (I is the identity matrix; X, Y, and Z are Pauli matricies; ^ is a tensor product)\n",
    "    XXs = (I^X^X) + (X^X^I)\n",
    "    YYs = (I^Y^Y) + (Y^Y^I)\n",
    "    ZZs = (I^Z^Z) + (Z^Z^I)\n",
    "    \n",
    "    # Sum interactions\n",
    "    H = XXs + YYs + ZZs\n",
    "    \n",
    "    # Return Hamiltonian\n",
    "    return H"
   ]
  },
  {
   "cell_type": "markdown",
   "id": "199e6d25-b57a-4a7b-ac11-4b48d2e29efa",
   "metadata": {},
   "source": [
    "Using opflow, however, the math is much easier to read and does not require recursive function calls, which can be confusing when generalizing a Hamiltonian to many qubits. Also, the operators do not need to be explicity computed in opflow saving memory. In opflow, the carrot symbol ```^``` denotes a tensor product. Important note, paranetheses are often needed to clarify the order of operations especially if doing other math operations such as ```+```. See below."
   ]
  },
  {
   "cell_type": "code",
   "execution_count": 4,
   "id": "fc4e4da7-292d-46fe-972e-4f9c7f32ebce",
   "metadata": {},
   "outputs": [
    {
     "name": "stdout",
     "output_type": "stream",
     "text": [
      "matrix dimensions of op: (8, 8)\n"
     ]
    }
   ],
   "source": [
    "# Example of incorrectly adding two PauliOp objects.\n",
    "op = X^X + Z^Z\n",
    "print('matrix dimensions of op:', op.to_matrix().shape)"
   ]
  },
  {
   "cell_type": "markdown",
   "id": "dbb4bb92-2fc8-439c-8d05-0eb086367098",
   "metadata": {},
   "source": [
    "The shape of ```op``` should be (4,4) since $X$ and $Z$ are 2x2, but without parentheses, the order of operations is not correct. Shown below is the correct way of adding the two tensored Pauli operators in opflow."
   ]
  },
  {
   "cell_type": "code",
   "execution_count": 5,
   "id": "9de48874-6287-4721-9d7e-d9037994e216",
   "metadata": {},
   "outputs": [
    {
     "name": "stdout",
     "output_type": "stream",
     "text": [
      "matrix dimensions of op: (4, 4)\n"
     ]
    }
   ],
   "source": [
    "# Example of correctly adding two PauliOp objects.\n",
    "op = (X^X) + (Z^Z)\n",
    "print('matrix dimensions of op:', op.to_matrix().shape)"
   ]
  },
  {
   "cell_type": "markdown",
   "id": "d780ee45-42a2-4b8f-b7ec-0e08da813b71",
   "metadata": {},
   "source": [
    "## 3 Solution to the Time-Independent Schrödinger Equation\n",
    "\n",
    "The [Schrödinger equation](https://en.wikipedia.org/wiki/Schrödinger_equation) is a foundational pillar of quantum mechanics. It relates how a quantum state $|\\psi(t)\\rangle$ changes in time given what the state was initially $|\\psi(0)\\rangle$. It's solution is relatively simple (more on how it's not simple in the next section) when the Hamiltonian $H$ that governs the state evolvution does not depend on time. Treating Schrödinger equation as the differential equation it is, we can use separation of variables to solve it\n",
    "\n",
    "$$\n",
    "\\begin{align}\n",
    "i \\hbar \\frac{d |\\psi(t)\\rangle}{dt} &= H|\\psi(t)\\rangle \\\\\n",
    "|\\psi(t)\\rangle &= e^{-iHt / \\hbar} |\\psi(0)\\rangle.\n",
    "\\end{align}\n",
    "$$"
   ]
  },
  {
   "cell_type": "markdown",
   "id": "b4ded8ca-3fad-4518-aa09-4c21386a06e7",
   "metadata": {},
   "source": [
    "## 4 Exponential of a Matrix\n",
    "The solution to the [Schrödinger equation](https://en.wikipedia.org/wiki/Schrödinger_equation) for a Hamiltonian $H$ that does not depend on time (and $\\hbar = 1$) is\n",
    "$$\n",
    "|\\psi(t)\\rangle = e^{-iHt}|\\psi(0)\\rangle.\n",
    "$$\n",
    "But, what does it mean to take $e$ to the power of an operator $H$? Let's briefly address this topic and give references where you can learn more.\n",
    "\n",
    "Working with the the matrix representation of $H$, the time evolution $U_H(t) = e^{-iHt}$ can be numerically and algebraically evaluated using a [taylor series expansion](https://en.wikipedia.org/wiki/Taylor_series#Exponential_function) ($e^x = 1 + x + x^2/2! + x^3/3! + ... $) . This is often where computers step in. Although, single Pauli operators (e.g. $H=\\sigma_x$) have a nice algebraic result. On a computer, many different software packages have methods for computing $e^A$ where $A$ is a matrix (see scipy's [expm](https://docs.scipy.org/doc/scipy/reference/generated/scipy.linalg.expm.html) or opflow's [.exp_i()](https://qiskit.org/documentation/tutorials/operators/01_operator_flow.html#Evolutions,-exp_i(),-and-the-EvolvedOp)).\n",
    "\n",
    "We do need to be careful when the matrix that is being exponentiated is a sum of operators that do not commute ($[A,B] = AB - BA \\neq 0$). For example, if $H = \\sigma_x + \\sigma_z$, we need to take care in working with $e^{it(\\sigma_x + \\sigma_z)}$ since the Pauli operatos $\\sigma_x$ and $\\sigma_z$ do not commute $[\\sigma_x, \\sigma_z] = \\sigma_x \\sigma_z - \\sigma_z \\sigma_x = -2i\\sigma_y \\neq0$. If we want to apply $e^{it(\\sigma_x + \\sigma_z)}$ on a quantum computer, however, we will want to decompose the sum in the exponential into a product of exponentials. Each product can then be implemented on the quantum computer as a single or two-qubit gate. Continuing the example, $\\sigma_x$ and $\\sigma_z$ do not commute ($[\\sigma_x, \\sigma_z] \\neq 0$), so we cannot simply decompose the exponential into a product of exponentials $e^{-it(\\sigma_x + \\sigma_z)} \\neq e^{-it\\sigma_x}e^{-it\\sigma_z}$. This is where approximation methods come in such as Trotterization (more on that in the next section)."
   ]
  },
  {
   "cell_type": "markdown",
   "id": "959cf31a-b738-4ab4-bc2b-825b1bc7cf87",
   "metadata": {},
   "source": [
    "## 5 Trotterization\n",
    "\n",
    "The Open Science Prize notebook ends the decomposition of the unitary time evolution $U_{\\text{Heis3}}(t)$ calculation with\n",
    "$$\n",
    "U_{\\text{Heis3}}(t) \\approx \\left[XX^{(0,1)}(t/n) YY^{(0,1)}(t/n) ZZ^{(0,1)}(t/n) XX^{(1,2)}(t/n) YY^{(1,2)}(t/n) ZZ^{(1,2)}(t/n) \\right]^{n}\n",
    "$$\n",
    "where $t$ is time and $n$ is the number of Trotter steps. (Remember, this is not the only possible Trotterization.)\n",
    "\n",
    "The physical implementation of the two-qubit gates $XX(t)$, $YY(t)$, and $ZZ(t)$ are outlined in the Open Science Prize notebook, though without explanation. Here we provide a brief explanation with references where you can learn more.\n",
    "\n",
    "Qiskit has a library of circuits that include such gates called the [circuit library](https://qiskit.org/documentation/apidoc/circuit_library.html), but not every gate in the library is native to a physical device. Nonnative gates (such as $XX$, $YY$, $ZZ$, or $ZX$) need to be decomposed into gates that are [native to the physical device](https://qiskit.org/documentation/tutorials/circuits_advanced/08_gathering_system_information.html#Configuration). You may even come across three-qubit gates like XXY or XYZ in some models. These interactions can be decomposition into native gates, or you may find it effective go further and [engineer a typically nonnative interaction](https://qiskit.org/textbook/ch-quantum-hardware/hamiltonian-tomography.html) using Pulse.\n",
    "\n",
    "Assuming you want to only use native gates and not pulses, this review article is a useful starting point: F. Tacchino, et. al., *Quantum Computers as Universal Quantum Simulators: State-of-the-Art and Perspectives*, [Adv. Quantum Technol. *3* 3 (2020)](https://doi.org/10.1002/qute.201900052) \\[[free arxiv version](https://arxiv.org/abs/1907.03505)\\]\n",
    "\n",
    "\n",
    "In this notebook, let's start with the [ZZ gate](https://qiskit.org/documentation/stubs/qiskit.circuit.library.RZZGate.html)\n",
    "$$\n",
    "\\begin{align}\n",
    "ZZ(2t) &= e^{-it\\sigma_z \\otimes \\sigma_z} \\\\\n",
    "ZZ(2t) &= \\begin{bmatrix} e^{-it} & 0 & 0 & 0 \\\\ 0 & e^{it} & 0 & 0 \\\\ 0 & 0 & e^{it} & 0 \\\\ 0 & 0 & 0 & e^{-it} \\\\ \\end{bmatrix}\n",
    "\\end{align}.\n",
    "$$\n",
    "This can be implemented in terms of two-qubit [CNOT gates](https://qiskit.org/documentation/stubs/qiskit.circuit.library.CXGate.html#qiskit.circuit.library.CXGate) sandwiching a single qubit rotation [$R_z(2t)$ rotation](https://qiskit.org/documentation/stubs/qiskit.circuit.library.RZGate.html) as shown below. (Note that $R_z$ is evaluated at the angle $2t$ instead of the typical $t$ to simplify writing the exponential terms.)"
   ]
  },
  {
   "cell_type": "code",
   "execution_count": 6,
   "id": "4b52e0cf-8c7f-4d85-a5a5-21937352f236",
   "metadata": {},
   "outputs": [],
   "source": [
    "from qiskit.circuit import Parameter\n",
    "from qiskit import QuantumCircuit, QuantumRegister, execute\n",
    "\n",
    "t = Parameter('t')"
   ]
  },
  {
   "cell_type": "code",
   "execution_count": 7,
   "id": "7899531d-1294-4bfc-94d6-4a97b755b427",
   "metadata": {},
   "outputs": [
    {
     "data": {
      "image/png": "[encoded data removed]",
      "text/plain": [
       "<Figure size 267.052x144.48 with 1 Axes>"
      ]
     },
     "execution_count": 7,
     "metadata": {},
     "output_type": "execute_result"
    }
   ],
   "source": [
    "# ZZ in two and single qubit gates\n",
    "qc = QuantumCircuit(2)\n",
    "qc.cnot(0,1)\n",
    "qc.rz(2 * t, 1)\n",
    "qc.cnot(0,1)\n",
    "\n",
    "qc.draw(output='mpl')"
   ]
  },
  {
   "cell_type": "markdown",
   "id": "b281b10f-69ec-4dfe-a5b2-797569a0d56d",
   "metadata": {},
   "source": [
    "For fun, let's check this mathematically by evaluating the circuit library ZZ gate and decomposed circuit at various time values."
   ]
  },
  {
   "cell_type": "code",
   "execution_count": 8,
   "id": "dc7629c2-f881-4505-b904-bb56173cb30f",
   "metadata": {},
   "outputs": [],
   "source": [
    "from qiskit.circuit.library import RXXGate, RYYGate, RZZGate, CXGate\n",
    "from qiskit.quantum_info.operators import Operator\n",
    "\n",
    "import qiskit.quantum_info as qi"
   ]
  },
  {
   "cell_type": "code",
   "execution_count": 9,
   "id": "c84f1be2-930c-4545-98d4-36dc6396eda8",
   "metadata": {},
   "outputs": [
    {
     "data": {
      "text/plain": [
       "True"
      ]
     },
     "execution_count": 9,
     "metadata": {},
     "output_type": "execute_result"
    }
   ],
   "source": [
    "# time \n",
    "time = np.pi/2  # try different time values as a check that the decomposition of ZZ into native gates is accurate\n",
    "\n",
    "# Qiskit circuit library ZZ gate\n",
    "qc = QuantumCircuit(2)\n",
    "qc.append(RZZGate(time), [0,1])\n",
    "qc_ZZ_matrix = qi.Operator(qc)\n",
    "\n",
    "# Decomposed ZZ gate\n",
    "CNOT = Operator(np.array([[1,0,0,0],[0,1,0,0],[0,0,0,1],[0,0,1,0]]))\n",
    "Rz = Operator(np.array([[np.exp(-1j*time/2),0], [0,np.exp(1j*time/2)]]))\n",
    "I_Rz = (Operator(I)^Rz)\n",
    "np_ZZ_matrix = CNOT@I_Rz@CNOT\n",
    "\n",
    "# Confirm matrices are the same at time t\n",
    "np.array_equal(qc_ZZ_matrix, np_ZZ_matrix)"
   ]
  },
  {
   "cell_type": "markdown",
   "id": "da817ff1-df52-43ec-af83-6e17030d355d",
   "metadata": {},
   "source": [
    "The $ZZ(t)$ gate can be rotated to the $XX(t)$ gate by adding single qubit rotations. Single qubit rotations such as $R_y(\\pi/2) \\sigma_z R_y(-\\pi/2) = \\sigma_x$ can transform $\\sigma_z$ to $\\sigma_x$. Consider computing the calculation yourself. Remember that Pauli matrices can be decomposed from an exponential form like so $R_z(2\\theta)= \\exp\\left(-i\\theta\\sigma_z\\right) = \\cos(\\theta)I - i \\sin(\\theta)\\sigma_z$. Below is an abbreviated calculation to guide your own. Note that most tensor products with the identity have been omitted (e.g. $\\sigma_z^{(0)} = \\sigma_z^{(0)} \\otimes I^{(1)}$), and for extra clarity, each operator has the qubit it acts on indexed in the superscript, so $\\sigma_z^{(0)}$ would be the $\\sigma_z$ operator acting on qubit $0$.\n",
    "\n",
    "$$\n",
    "\\begin{align}\n",
    "\\left(R_y^{(0)}(\\pi/2) \\otimes R_Y^{(1)}(\\pi/2)\\right) ZZ(t)^{(0,1)}\\left( R_y^{(0)}(-\\pi/2) \\otimes R_Y^{(1)}(-\\pi/2)\\right) &= \\\\\n",
    "\\exp\\left[\\frac{-i\\pi}{4}(\\sigma_y^{(0)} + \\sigma_y^{(1)})\\right] \\exp\\left[\\frac{-it}{2} \\sigma_z^{(0)} \\otimes \\sigma_z^{(1)}\\right] \\exp\\left[\\frac{i\\pi}{4}(\\sigma_y^{(0)} + \\sigma_y^{(1)})\\right] &= \\\\\n",
    "\\exp\\left[\\frac{-i\\pi}{4}(\\sigma_y^{(0)} + \\sigma_y^{(1)})\\right] \\left[\\cos(t/2)(I^{(0)} \\otimes I^{(1)}) -i\\sin(t/2)(\\sigma_z^{(0)} \\otimes \\sigma_z^{(1)}) \\right] \\exp\\left[\\frac{i\\pi}{4}(\\sigma_y^{(0)} + \\sigma_y^{(1)})\\right] &= \\\\\n",
    "\\cos(t/2) \\exp\\left[\\frac{-i\\pi}{4}(\\sigma_y^{(0)} + \\sigma_y^{(1)})\\right] (I^{(0)} \\otimes I^{(1)}) \\exp\\left[\\frac{i\\pi}{4}(\\sigma_y^{(0)} + \\sigma_y^{(1)})\\right] - i \\exp\\left[\\frac{-i\\pi}{4}(\\sigma_y^{(0)} + \\sigma_y^{(1)})\\right] \\sin(t/2)(\\sigma_z \\otimes \\sigma_z) \\exp\\left[\\frac{i\\pi}{4}(\\sigma_y^{(0)} + \\sigma_y^{(1)})\\right]  &= \\\\\n",
    "\\cos(t/2) (I^{(0)} \\otimes I^{(1)}) - \\frac{i \\sin(t/2)}{4} \\left[\\left(I^{(0)} - i \\sigma_y^{(0)}\\right) \\sigma_z^{(0)} \\left(I^{(0)} + i \\sigma_y^{(0)}\\right)\\right] \\otimes \\left[\\left(I^{(1)} - i \\sigma_y^{(1)}\\right) \\sigma_z^{(1)} \\left(I^{(1)} + i \\sigma_y^{(1)}\\right)\\right]  &= \\\\\n",
    "\\cos(t/2) (I^{(0)} \\otimes I^{(1)}) - i \\sin(t/2) (\\sigma_x^{(0)} \\otimes \\sigma_x^{(1)})  &= \\\\\n",
    "\\exp\\left[\\frac{-it}{2} \\sigma_x^{(0)} \\otimes \\sigma_x^{(1)}\\right] &=  \\\\\n",
    "&= XX(t) \\\\\n",
    "\\end{align}\n",
    "$$\n"
   ]
  },
  {
   "cell_type": "code",
   "execution_count": 10,
   "id": "c18e249f-58ce-43d6-9f49-c5680b1b19c6",
   "metadata": {},
   "outputs": [
    {
     "data": {
      "image/png": "[encoded data removed]",
      "text/plain": [
       "<Figure size 387.452x144.48 with 1 Axes>"
      ]
     },
     "execution_count": 10,
     "metadata": {},
     "output_type": "execute_result"
    }
   ],
   "source": [
    "# XX(t)\n",
    "qc = QuantumCircuit(2)\n",
    "qc.ry(np.pi/2,[0,1])\n",
    "qc.cnot(0,1)\n",
    "qc.rz(2 * t, 1)\n",
    "qc.cnot(0,1)\n",
    "qc.ry(-np.pi/2,[0,1])\n",
    "\n",
    "qc.draw(output='mpl')"
   ]
  },
  {
   "cell_type": "markdown",
   "id": "4614a7cc-813b-4d5f-87eb-d509b4534447",
   "metadata": {},
   "source": [
    "Let's check for fun again."
   ]
  },
  {
   "cell_type": "code",
   "execution_count": 11,
   "id": "1401b27f-be6d-4eaf-af29-80fea03bc190",
   "metadata": {},
   "outputs": [
    {
     "data": {
      "text/plain": [
       "True"
      ]
     },
     "execution_count": 11,
     "metadata": {},
     "output_type": "execute_result"
    }
   ],
   "source": [
    "# time \n",
    "time = np.pi/6  # try different time values as a check that the decomposition of XX into native gates is accurate\n",
    "\n",
    "# Qiskit circuit library XX gate\n",
    "qc = QuantumCircuit(2)\n",
    "qc.append(RXXGate(time), [0,1])\n",
    "qc_XX_matrix = qi.Operator(qc).data\n",
    "\n",
    "# Decomposed XX gate\n",
    "Rz = Operator(np.array([[np.exp(-1j*time/2),0], [0,np.exp(1j*time/2)]]))\n",
    "Ry = Operator(np.array([[np.cos(np.pi/4), -np.sin(np.pi/4)],[np.sin(np.pi/4), np.cos(np.pi/4)]]))\n",
    "Ry_minus = Operator(np.array([[np.cos(-np.pi/4), -np.sin(-np.pi/4)],[np.sin(-np.pi/4), np.cos(-np.pi/4)]]))\n",
    "I_Rz = (Operator(I)^Rz)\n",
    "\n",
    "np_XX_matrix = (Ry^Ry)@CNOT@I_Rz@CNOT@(Ry_minus^Ry_minus)\n",
    "\n",
    "# Confirm matrices are the same at time t\n",
    "np.array_equal(np.round(qc_XX_matrix, 6), np.round(np_XX_matrix, 6))"
   ]
  },
  {
   "cell_type": "markdown",
   "id": "41154af6-1176-40f4-a799-4e49b5467451",
   "metadata": {},
   "source": [
    "The $ZZ(t)$ gate can be rotated to the $YY(t)$ gate by adding single qubit rotations $R_x(\\pi/2) \\sigma_z R_x(-\\pi/2) = -\\sigma_y$ around the $ZZ$ gate just as was done with the $XX$ gate."
   ]
  },
  {
   "cell_type": "code",
   "execution_count": 12,
   "id": "9e0fa136-3964-4614-9be6-0aece7c37872",
   "metadata": {},
   "outputs": [
    {
     "data": {
      "image/png": "[encoded data removed]",
      "text/plain": [
       "<Figure size 387.452x144.48 with 1 Axes>"
      ]
     },
     "execution_count": 12,
     "metadata": {},
     "output_type": "execute_result"
    }
   ],
   "source": [
    "# YY(t)\n",
    "qc = QuantumCircuit(2)\n",
    "qc.rx(np.pi/2,[0,1])\n",
    "qc.cnot(0,1)\n",
    "qc.rz(2 * t, 1)\n",
    "qc.cnot(0,1)\n",
    "qc.rx(-np.pi/2,[0,1])\n",
    "\n",
    "qc.draw(output='mpl')"
   ]
  },
  {
   "cell_type": "code",
   "execution_count": 13,
   "id": "4d484c88-5494-4adb-9e4a-deb8b009a4c6",
   "metadata": {},
   "outputs": [
    {
     "data": {
      "text/plain": [
       "True"
      ]
     },
     "execution_count": 13,
     "metadata": {},
     "output_type": "execute_result"
    }
   ],
   "source": [
    "# time \n",
    "time = np.pi/6  # try different time values as a check that the decomposition of YY into native gates is accurate\n",
    "\n",
    "# Qiskit circuit library YY gate\n",
    "qc = QuantumCircuit(2)\n",
    "qc.append(RYYGate(time), [0,1])\n",
    "qc_YY_matrix = qi.Operator(qc).data\n",
    "\n",
    "# Decomposed YY gate\n",
    "Rz = Operator(np.array([[np.exp(-1j*time/2),0], [0,np.exp(1j*time/2)]]))\n",
    "Rx = Operator(np.array([[np.cos(np.pi/4), -1j*np.sin(np.pi/4)],[-1j*np.sin(np.pi/4), np.cos(np.pi/4)]]))\n",
    "Rx_minus = Operator(np.array([[np.cos(-np.pi/4), -1j*np.sin(-np.pi/4)],[-1j*np.sin(-np.pi/4), np.cos(-np.pi/4)]]))\n",
    "I_Rz = (Operator(I)^Rz)\n",
    "\n",
    "np_YY_matrix = (Rx^Rx)@CNOT@I_Rz@CNOT@(Rx_minus^Rx_minus)\n",
    "\n",
    "# Confirm matrices are the same at time t\n",
    "np.array_equal(np.round(qc_YY_matrix, 6), np.round(np_YY_matrix, 6))"
   ]
  },
  {
   "cell_type": "markdown",
   "id": "4fcf11bd-7678-4627-9fbc-a090fba9d674",
   "metadata": {},
   "source": [
    "## 6 State Tomography\n",
    "[State tomography](https://qiskit.org/documentation/tutorials/noise/8_tomography.html) is a method for determining the quantum state of a qubit, or qubits, even if the state is in a superposition or entangled. Repeatedly measuring a prepared quantum state may not be enough to determine the full state. For example, what if you want to know if the result of a quantum calculation is the state $|0\\rangle -i|1\\rangle$?\n",
    "\n",
    "Repeated measurements in the $Z$-basis would return $|0\\rangle$ 50% of the time and $|1\\rangle$ 50% of the time. However, there are other states that give the same measurement result, such as $|0\\rangle + |1\\rangle$, $|0\\rangle - |1\\rangle$, and $|0\\rangle + i|1\\rangle$. How could you determine the state you have has the $-i$ phase you're looking for? This requires measurements in [different bases](https://qiskit.org/textbook/ch-states/single-qubit-gates.html#measuring). In state tomography, a quantum circuit is repeated with measurements done in different bases to exhaustively determine the full quantum state (including any phase information). The Open Science Prize this year is using this technique to determine the full quantum state after the quantum simulation. That state is then compared to the exact expected result to compute a fidelity. Although this fidelity only gives information on how well the quantum simulation produces one particular state, it's a more lightweight approach than a full [process tomography](https://qiskit.org/documentation/tutorials/noise/8_tomography.html) caluclation. In short, a high fidelity measured by state tomography doesn't guarantee a high fidelity quantum simulation, but a low fidelity state tomography does imply a low fidelity quantum simulation."
   ]
  },
  {
   "cell_type": "markdown",
   "id": "f54d9f18-0385-4b0a-9568-5f1e8efdafb4",
   "metadata": {},
   "source": [
    "# 7 Two-Qubit Gate with Pulse\n",
    "[Qiskit Pulse](https://qiskit.org/documentation/apidoc/pulse.html) offers low-level control of a device's qubits. Pulse allows users to program the physical interactions happening on the superconducting chip. This can be a powerful tool for streamlining circuits \\[1-4\\], crafting new types of gates \\[1-4\\], getting [higher fidelity readout](https://www.youtube.com/watch?v=_1XTChcvbOs), and more. Of course, the increased level of control requires more understanding of [the physics of the qubit and how gates are physically generated on chip](https://qiskit.org/textbook/ch-quantum-hardware/transmon-physics.html). For someone new to Pulse, this may seem intimidating. However, there are great tutorials, and the [qiskit textbook](https://qiskit.org/textbook/ch-quantum-hardware/index-pulses.html) can slowly introduce you to these ideas with real and practically useful examples. For those more experienced with Pulse, it may be time to review papers such as this [general overview](https://arxiv.org/pdf/2004.06755.pdf). There will be other papers you find useful for this competition. Below, there is a small--and far from exhaustive--list to get you started \\[1-4\\].\n",
    "\n",
    "To aid your efforts, we've provided a simple example of implementing a pulse-efficient [$R_{ZX}$ gate](https://qiskit.org/documentation/stubs/qiskit.circuit.library.RZXGate.html#qiskit.circuit.library.RZXGate) as outlined in paper [3](https://arxiv.org/pdf/2105.01063.pdf). Note that although the example below is interesting, it is not the only way to make a \"pulse-efficient\" two-qubit rotation gate.\n",
    "\n",
    "\\[1\\] T. Alexander, et al., *Qiskit Pulse: Programming Quantum Computers Through the Cloud with Pulses*, [Quantum Sci. and Technol. **5** 044006 (2020)](https://arxiv.org/pdf/2004.06755.pdf)\n",
    "\n",
    "\n",
    "\\[2\\] J. Stenger, et al., *Simulating the dynamics of braiding of Majorana zero modes using an IBM quantum computer*, [Phys. Rev. Research **3**, 033171 (2021)](https://arxiv.org/pdf/2012.11660.pdf)\n",
    "\n",
    "\\[3\\] N. Earnest, et al., *Pulse-efficient circuit transpilation for quantum applications on cross-resonance-based hardware*, [arXiv:2105.01063 \\[quant-ph\\] (2021)](https://arxiv.org/pdf/2105.01063.pdf)\n",
    "\n",
    "\\[4\\] S. Oomura, et al., *Design and application of high-speed and high-precision CV gate on IBM Q OpenPulse system*, [arXiv:2102.06117 \\[quant-ph\\] (2021)](https://arxiv.org/pdf/2102.06117.pdf)\n",
    "\n",
    "[qiskit experiments repo](https://github.com/Qiskit/qiskit-experiments)"
   ]
  },
  {
   "cell_type": "code",
   "execution_count": 14,
   "id": "bcf02aae-a24a-478b-9651-fc25f8dad0d8",
   "metadata": {},
   "outputs": [],
   "source": [
    "# Import qiskit packages\n",
    "from qiskit import IBMQ\n",
    "from qiskit import schedule, transpile\n",
    "from qiskit.tools.monitor import job_monitor\n",
    "\n",
    "# load IBMQ Account data\n",
    "# IBMQ.save_account(TOKEN)\n",
    "provider = IBMQ.load_account()\n",
    "\n",
    "provider = IBMQ.get_provider(hub='ibm-q-community', group='ibmquantumawards', project='open-science-22')\n",
    "backend = provider.get_backend('ibmq_jakarta')"
   ]
  },
  {
   "cell_type": "markdown",
   "id": "a057968d-c6d1-4ea0-a773-3d9fae612066",
   "metadata": {},
   "source": [
    "## 7.1 The [$R_{ZX}$ Gate](https://qiskit.org/documentation/stubs/qiskit.circuit.library.RZXGate.html#qiskit.circuit.library.RZXGate)\n",
    "It's now time for an example of implementing a rotational two-qubit gate and how you might go about using Pulse to implement it as efficiently as possible. Remembering the dicussion in sections 4 and 5, we can write out the form of the $R_{ZX}(\\theta)$ gate:\n",
    "\n",
    "$$\n",
    "R_{ZX}(2\\theta) = \\exp\\left(-i \\theta \\sigma_z^{(0)} \\otimes \\sigma_x^{(1)}\\right) = \\cos(\\theta)(I^{(0)}\\otimes I^{(1)}) -i \\sin(\\theta)(\\sigma_z^{(0)} \\otimes \\sigma_x^{(1)})\n",
    "$$\n",
    "\n",
    "Let's follow paper [\\[3\\]](https://arxiv.org/pdf/2105.01063.pdf)'s same line of reasoning. First, implement an $R_{ZX}$ using native circuit gates. Second, compare that circuit's performance to an $R_{ZX}$ gate contrusted from native pulses. Since the competition focuses on Jakarta's qubits 1, 3, and 5, let's just consider an $R_{ZX}$ gate between 1 and 3."
   ]
  },
  {
   "cell_type": "code",
   "execution_count": 15,
   "id": "bc34997b-9248-4521-9c60-6cc6e34bcffc",
   "metadata": {},
   "outputs": [
    {
     "name": "stdout",
     "output_type": "stream",
     "text": [
      "                                                    \n",
      "q0_0: ──────────────────────────────────────────────\n",
      "                                                    \n",
      "q0_1: ──────────────■─────────────────■─────────────\n",
      "                    │                 │             \n",
      "q0_2: ──────────────┼─────────────────┼─────────────\n",
      "      ┌──────────┐┌─┴─┐┌───────────┐┌─┴─┐┌─────────┐\n",
      "q0_3: ┤ Ry(-π/2) ├┤ X ├┤ Rz(3π/11) ├┤ X ├┤ Ry(π/2) ├\n",
      "      └──────────┘└───┘└───────────┘└───┘└─────────┘\n"
     ]
    },
    {
     "data": {
      "image/png": "[encoded data removed]",
      "text/plain": [
       "<Figure size 936x648 with 1 Axes>"
      ]
     },
     "execution_count": 15,
     "metadata": {},
     "output_type": "execute_result"
    }
   ],
   "source": [
    "# RZX gate circuit (see section 5 for details on why this is the circuit for RZX)\n",
    "theta = 3*np.pi/11 # pick arbitrary rotation angle theta\n",
    "\n",
    "qrs = QuantumRegister(4)\n",
    "qc = QuantumCircuit(qrs)\n",
    "qc.ry(-np.pi/2, 3)\n",
    "qc.cx(1, 3)\n",
    "qc.rz(theta, 3)\n",
    "qc.cx(1, 3)\n",
    "qc.ry(np.pi/2, 3)\n",
    "print(qc.draw())\n",
    "\n",
    "qct = transpile(qc, backend)  # display the typical circuit diagram\n",
    "schedule(qct, backend).draw()  # display what the pulse schedule looks like for the circuit"
   ]
  },
  {
   "cell_type": "markdown",
   "id": "087e3714-4129-47a2-b1e6-c1b26a31ff8e",
   "metadata": {},
   "source": [
    "Now that we have an $R_{ZX}$ circuit implementation (shown above in circuit and pulse schedule forms), let's make the \"pulse-efficient\" version of $R_{ZX}$. (Spoiler: it's only two pulses!)"
   ]
  },
  {
   "cell_type": "code",
   "execution_count": 16,
   "id": "7785e505-f8c3-457f-9d17-7cf5f1c411ca",
   "metadata": {},
   "outputs": [],
   "source": [
    "# The PassManager helps decide how a circuit should be optimized\n",
    "# (https://qiskit.org/documentation/tutorials/circuits_advanced/04_transpiler_passes_and_passmanager.html)\n",
    "from qiskit.transpiler import PassManager\n",
    "\n",
    "# This function will pull pulse-level calibration values to build RZX gates and tell the PassManager to leave RZX gates alone\n",
    "from qiskit.transpiler.passes import RZXCalibrationBuilderNoEcho"
   ]
  },
  {
   "cell_type": "code",
   "execution_count": 17,
   "id": "f96a9cdc-578a-4e23-8ee3-9d4d8867d22d",
   "metadata": {},
   "outputs": [
    {
     "data": {
      "image/png": "[encoded data removed]",
      "text/plain": [
       "<Figure size 936x550.8 with 1 Axes>"
      ]
     },
     "execution_count": 17,
     "metadata": {},
     "output_type": "execute_result"
    }
   ],
   "source": [
    "# Equivalent circuit in terms of cross-resonance gates (https://qiskit.org/textbook/ch-quantum-hardware/cQED-JC-SW.html#6.-The-Cross-Resonance-Entangling-Gate)\n",
    "qrs_pe = QuantumRegister(4)\n",
    "qc_pe = QuantumCircuit(qrs_pe)\n",
    "qc_pe.rzx(theta/2, 1, 3)\n",
    "qc_pe.x(1)\n",
    "qc_pe.rzx(-theta/2, 1, 3)\n",
    "qc_pe.x(1)\n",
    "\n",
    "# Add the pulse-level calibrations\n",
    "pm = PassManager([RZXCalibrationBuilderNoEcho(backend)])\n",
    "qc_pulse_efficient = pm.run(qc_pe)\n",
    "\n",
    "schedule(qc_pulse_efficient, backend).draw()  # show pulse schedule"
   ]
  },
  {
   "cell_type": "code",
   "execution_count": 18,
   "id": "93da1619-2bac-45df-8724-ca33e6616cf1",
   "metadata": {},
   "outputs": [
    {
     "name": "stdout",
     "output_type": "stream",
     "text": [
      "Duration of standard CNOT-based circuit:\n",
      "3776\n",
      "Duration of pulse-efficient circuit:\n",
      "1184\n"
     ]
    }
   ],
   "source": [
    "# Compare the schedule durations\n",
    "print('Duration of standard CNOT-based circuit:')\n",
    "print(schedule(qct, backend).duration)\n",
    "print('Duration of pulse-efficient circuit:')\n",
    "print(schedule(qc_pulse_efficient, backend).duration)"
   ]
  },
  {
   "cell_type": "markdown",
   "id": "1b9966af-636f-4a75-8e13-60a053e4c525",
   "metadata": {},
   "source": [
    "You've just optimized an $R_{ZX}$ gate using pulse-level control! The shorter circuit time for the pulse-efficient circuit is great news! The shorter the circuit, the less likely the qubit will decohere. This time savings, and fewer pulses to the qubits, will reduce errors. Let's quantify this reduction by measuring the [process fidelity](https://qiskit.org/documentation/tutorials/noise/8_tomography.html) of the two circuits. If we wanted to be thorough, we should do a [randomized benchmarking](https://qiskit.org/textbook/ch-quantum-hardware/randomized-benchmarking.html) as shown in Fig. 1 of paper [\\[3\\]](https://arxiv.org/pdf/2105.01063.pdf)."
   ]
  },
  {
   "cell_type": "code",
   "execution_count": 19,
   "id": "1122b4a4-aba3-45cf-aa4c-3c8358c3e987",
   "metadata": {},
   "outputs": [],
   "source": [
    "# Process tomography functions\n",
    "from qiskit.ignis.verification.tomography import process_tomography_circuits, ProcessTomographyFitter\n",
    "\n",
    "# Get exact gate for comparison in process tomography\n",
    "from qiskit.circuit.library import RZXGate\n",
    "\n",
    "# Get the ideal unitary operator to compare to circuit output\n",
    "target_unitary = qi.Operator(RZXGate(theta).to_matrix())\n",
    "\n",
    "# Generate process tomography circuits and run\n",
    "qpt_qcs = process_tomography_circuits(qc, [qrs[1], qrs[3]])\n",
    "job = execute(qpt_qcs, backend, shots=8192)"
   ]
  },
  {
   "cell_type": "code",
   "execution_count": 20,
   "id": "ff05476f-831f-4feb-8e20-82436c74074b",
   "metadata": {},
   "outputs": [
    {
     "name": "stdout",
     "output_type": "stream",
     "text": [
      "Job Status: job has successfully run\n"
     ]
    }
   ],
   "source": [
    "job_monitor(job)"
   ]
  },
  {
   "cell_type": "code",
   "execution_count": 21,
   "id": "11371910-5166-4470-87f0-a94bb00e6ff9",
   "metadata": {},
   "outputs": [
    {
     "name": "stdout",
     "output_type": "stream",
     "text": [
      "Average gate fidelity: F = 0.91322\n"
     ]
    }
   ],
   "source": [
    "# Extract tomography data\n",
    "qpt_tomo = ProcessTomographyFitter(job.result(), qpt_qcs)\n",
    "\n",
    "# Tomographic reconstruction\n",
    "choi_fit_lstsq = qpt_tomo.fit(method='lstsq')\n",
    "print('Average gate fidelity: F = {:.5f}'.format(qi.average_gate_fidelity(choi_fit_lstsq, target=target_unitary)))"
   ]
  },
  {
   "cell_type": "markdown",
   "id": "4a738714-545b-4ebe-b381-2fcc610e4f7f",
   "metadata": {},
   "source": [
    "Now for the pulse-efficient gate"
   ]
  },
  {
   "cell_type": "code",
   "execution_count": 22,
   "id": "ec7d0533-fbf3-468e-bd43-469a477e4a4b",
   "metadata": {},
   "outputs": [],
   "source": [
    "# Generate process tomography circuits and run\n",
    "qpt_qcs = process_tomography_circuits(qc_pulse_efficient, [qrs_pe[1], qrs_pe[3]])\n",
    "job = execute(qpt_qcs, backend, shots=8192)"
   ]
  },
  {
   "cell_type": "code",
   "execution_count": 23,
   "id": "e3274b60-f0c2-4a42-96d7-664c3cd4af26",
   "metadata": {},
   "outputs": [
    {
     "name": "stdout",
     "output_type": "stream",
     "text": [
      "Job Status: job has successfully run\n"
     ]
    }
   ],
   "source": [
    "job_monitor(job)"
   ]
  },
  {
   "cell_type": "code",
   "execution_count": 24,
   "id": "97fca98c-f492-4643-95da-42d9f24678f9",
   "metadata": {},
   "outputs": [
    {
     "name": "stdout",
     "output_type": "stream",
     "text": [
      "Average gate fidelity: F = 0.92471\n"
     ]
    }
   ],
   "source": [
    "# Extract tomography data so that counts are indexed by measurement configuration\n",
    "qpt_tomo = ProcessTomographyFitter(job.result(), qpt_qcs)\n",
    "\n",
    "# Tomographic reconstruction\n",
    "choi_fit_lstsq = qpt_tomo.fit(method='lstsq')\n",
    "print('Average gate fidelity: F = {:.5f}'.format(qi.average_gate_fidelity(choi_fit_lstsq, target=target_unitary)))"
   ]
  },
  {
   "cell_type": "markdown",
   "id": "8f387262-d130-4c2c-91af-bdcf8ff9019e",
   "metadata": {},
   "source": [
    "This is just one example of how Pulse could be used. Read [tutorials](https://qiskit.org/documentation/tutorials/circuits_advanced/05_pulse_gates.html), papers, and the [Qiskit youtube channel](https://www.youtube.com/c/qiskit) for more ideas."
   ]
  },
  {
   "cell_type": "code",
   "execution_count": 27,
   "id": "3442d831-379c-420d-8aa5-3d300220d796",
   "metadata": {},
   "outputs": [
    {
     "data": {
      "text/html": [
       "<h3>Version Information</h3><table><tr><th>Qiskit Software</th><th>Version</th></tr><tr><td><code>qiskit-terra</code></td><td>0.18.3</td></tr><tr><td><code>qiskit-aer</code></td><td>0.9.1</td></tr><tr><td><code>qiskit-ignis</code></td><td>0.6.0</td></tr><tr><td><code>qiskit-ibmq-provider</code></td><td>0.18.0</td></tr><tr><td><code>qiskit-aqua</code></td><td>0.9.5</td></tr><tr><td><code>qiskit</code></td><td>0.32.0</td></tr><tr><td><code>qiskit-nature</code></td><td>0.1.3</td></tr><tr><th>System information</th></tr><tr><td>Python</td><td>3.8.8 (default, Apr 13 2021, 12:59:45) \n",
       "[Clang 10.0.0 ]</td></tr><tr><td>OS</td><td>Darwin</td></tr><tr><td>CPUs</td><td>8</td></tr><tr><td>Memory (Gb)</td><td>64.0</td></tr><tr><td colspan='2'>Mon Nov 29 09:01:00 2021 EST</td></tr></table>"
      ],
      "text/plain": [
       "<IPython.core.display.HTML object>"
      ]
     },
     "metadata": {},
     "output_type": "display_data"
    }
   ],
   "source": [
    "import qiskit.tools.jupyter\n",
    "%qiskit_version_table"
   ]
  }
 ],
 "metadata": {
  "kernelspec": {
   "display_name": "Python 3",
   "language": "python",
   "name": "python3"
  },
  "language_info": {
   "codemirror_mode": {
    "name": "ipython",
    "version": 3
   },
   "file_extension": ".py",
   "mimetype": "text/x-python",
   "name": "python",
   "nbconvert_exporter": "python",
   "pygments_lexer": "ipython3",
   "version": "3.8.8"
  }
 },
 "nbformat": 4,
 "nbformat_minor": 5
}
